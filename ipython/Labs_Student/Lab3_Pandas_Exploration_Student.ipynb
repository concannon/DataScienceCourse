{
 "cells": [
  {
   "cell_type": "markdown",
   "metadata": {},
   "source": [
    "In this lab we're going to do simple data exploration using Pandas. Our objective is to learn basic operations that aid in visual data exploration.\n",
    "\n",
    "<br>\n",
    "\n",
    "First, let's import our required libraries and read in the data."
   ]
  },
  {
   "cell_type": "code",
   "execution_count": 11,
   "metadata": {},
   "outputs": [
    {
     "name": "stdout",
     "output_type": "stream",
     "text": [
      "c:/users/connor/datasciencecourse/ipython/data/\n"
     ]
    },
    {
     "data": {
      "text/html": [
       "<div>\n",
       "<style>\n",
       "    .dataframe thead tr:only-child th {\n",
       "        text-align: right;\n",
       "    }\n",
       "\n",
       "    .dataframe thead th {\n",
       "        text-align: left;\n",
       "    }\n",
       "\n",
       "    .dataframe tbody tr th {\n",
       "        vertical-align: top;\n",
       "    }\n",
       "</style>\n",
       "<table border=\"1\" class=\"dataframe\">\n",
       "  <thead>\n",
       "    <tr style=\"text-align: right;\">\n",
       "      <th></th>\n",
       "      <th>CustNUm</th>\n",
       "      <th>Amount.Requested</th>\n",
       "      <th>Amount.Funded.By.Investors</th>\n",
       "      <th>Interest.Rate</th>\n",
       "      <th>Loan.Length</th>\n",
       "      <th>Loan.Purpose</th>\n",
       "      <th>Debt.To.Income.Ratio</th>\n",
       "      <th>State</th>\n",
       "      <th>Home.Ownership</th>\n",
       "      <th>Monthly.Income</th>\n",
       "      <th>FICO.Range</th>\n",
       "      <th>Open.CREDIT.Lines</th>\n",
       "      <th>Revolving.CREDIT.Balance</th>\n",
       "      <th>Inquiries.in.the.Last.6.Months</th>\n",
       "      <th>Employment.Length</th>\n",
       "    </tr>\n",
       "  </thead>\n",
       "  <tbody>\n",
       "    <tr>\n",
       "      <th>0</th>\n",
       "      <td>81174</td>\n",
       "      <td>20000</td>\n",
       "      <td>20000.0</td>\n",
       "      <td>8.90%</td>\n",
       "      <td>36 months</td>\n",
       "      <td>debt_consolidation</td>\n",
       "      <td>14.90%</td>\n",
       "      <td>SC</td>\n",
       "      <td>MORTGAGE</td>\n",
       "      <td>6541.67</td>\n",
       "      <td>735-739</td>\n",
       "      <td>14.0</td>\n",
       "      <td>14272.0</td>\n",
       "      <td>2.0</td>\n",
       "      <td>&lt; 1 year</td>\n",
       "    </tr>\n",
       "    <tr>\n",
       "      <th>1</th>\n",
       "      <td>99592</td>\n",
       "      <td>19200</td>\n",
       "      <td>19200.0</td>\n",
       "      <td>12.12%</td>\n",
       "      <td>36 months</td>\n",
       "      <td>debt_consolidation</td>\n",
       "      <td>28.36%</td>\n",
       "      <td>TX</td>\n",
       "      <td>MORTGAGE</td>\n",
       "      <td>4583.33</td>\n",
       "      <td>715-719</td>\n",
       "      <td>12.0</td>\n",
       "      <td>11140.0</td>\n",
       "      <td>1.0</td>\n",
       "      <td>2 years</td>\n",
       "    </tr>\n",
       "    <tr>\n",
       "      <th>2</th>\n",
       "      <td>80059</td>\n",
       "      <td>35000</td>\n",
       "      <td>35000.0</td>\n",
       "      <td>21.98%</td>\n",
       "      <td>60 months</td>\n",
       "      <td>debt_consolidation</td>\n",
       "      <td>23.81%</td>\n",
       "      <td>CA</td>\n",
       "      <td>MORTGAGE</td>\n",
       "      <td>11500.00</td>\n",
       "      <td>690-694</td>\n",
       "      <td>14.0</td>\n",
       "      <td>21977.0</td>\n",
       "      <td>1.0</td>\n",
       "      <td>2 years</td>\n",
       "    </tr>\n",
       "    <tr>\n",
       "      <th>3</th>\n",
       "      <td>15825</td>\n",
       "      <td>10000</td>\n",
       "      <td>9975.0</td>\n",
       "      <td>9.99%</td>\n",
       "      <td>36 months</td>\n",
       "      <td>debt_consolidation</td>\n",
       "      <td>14.30%</td>\n",
       "      <td>KS</td>\n",
       "      <td>MORTGAGE</td>\n",
       "      <td>3833.33</td>\n",
       "      <td>695-699</td>\n",
       "      <td>10.0</td>\n",
       "      <td>9346.0</td>\n",
       "      <td>0.0</td>\n",
       "      <td>5 years</td>\n",
       "    </tr>\n",
       "    <tr>\n",
       "      <th>4</th>\n",
       "      <td>33182</td>\n",
       "      <td>12000</td>\n",
       "      <td>12000.0</td>\n",
       "      <td>11.71%</td>\n",
       "      <td>36 months</td>\n",
       "      <td>credit_card</td>\n",
       "      <td>18.78%</td>\n",
       "      <td>NJ</td>\n",
       "      <td>RENT</td>\n",
       "      <td>3195.00</td>\n",
       "      <td>695-699</td>\n",
       "      <td>11.0</td>\n",
       "      <td>14469.0</td>\n",
       "      <td>0.0</td>\n",
       "      <td>9 years</td>\n",
       "    </tr>\n",
       "  </tbody>\n",
       "</table>\n",
       "</div>"
      ],
      "text/plain": [
       "   CustNUm  Amount.Requested  Amount.Funded.By.Investors Interest.Rate  \\\n",
       "0    81174             20000                     20000.0         8.90%   \n",
       "1    99592             19200                     19200.0        12.12%   \n",
       "2    80059             35000                     35000.0        21.98%   \n",
       "3    15825             10000                      9975.0         9.99%   \n",
       "4    33182             12000                     12000.0        11.71%   \n",
       "\n",
       "  Loan.Length        Loan.Purpose Debt.To.Income.Ratio State Home.Ownership  \\\n",
       "0   36 months  debt_consolidation               14.90%    SC       MORTGAGE   \n",
       "1   36 months  debt_consolidation               28.36%    TX       MORTGAGE   \n",
       "2   60 months  debt_consolidation               23.81%    CA       MORTGAGE   \n",
       "3   36 months  debt_consolidation               14.30%    KS       MORTGAGE   \n",
       "4   36 months         credit_card               18.78%    NJ           RENT   \n",
       "\n",
       "   Monthly.Income FICO.Range  Open.CREDIT.Lines  Revolving.CREDIT.Balance  \\\n",
       "0         6541.67    735-739               14.0                   14272.0   \n",
       "1         4583.33    715-719               12.0                   11140.0   \n",
       "2        11500.00    690-694               14.0                   21977.0   \n",
       "3         3833.33    695-699               10.0                    9346.0   \n",
       "4         3195.00    695-699               11.0                   14469.0   \n",
       "\n",
       "   Inquiries.in.the.Last.6.Months Employment.Length  \n",
       "0                             2.0          < 1 year  \n",
       "1                             1.0           2 years  \n",
       "2                             1.0           2 years  \n",
       "3                             0.0           5 years  \n",
       "4                             0.0           9 years  "
      ]
     },
     "execution_count": 11,
     "metadata": {},
     "output_type": "execute_result"
    }
   ],
   "source": [
    "import pandas as pd\n",
    "import matplotlib.pyplot as plt\n",
    "import numpy as np\n",
    "import os\n",
    "\n",
    "\n",
    "cwd = os.getcwd()\n",
    "\n",
    "#If on MAC, this will likely work\n",
    "datadir = '/'.join(cwd.split('/')[0:-1]) + '/data/'\n",
    "#If on window's machine, explicitly put in data dir\n",
    "datadir = 'c:/users/connor/datasciencecourse/ipython/data/'\n",
    "\n",
    "%matplotlib inline\n",
    "print(datadir)\n",
    "\n",
    "\n",
    "#Now read in the dataset loansdata.csv\n",
    "loansData = pd.read_csv(datadir+'loansdata.csv')\n",
    "loansData.head()"
   ]
  },
  {
   "cell_type": "markdown",
   "metadata": {},
   "source": [
    "The full schema can be found <a href=\"https://github.com/herrfz/dataanalysis/blob/master/assignment1/Assignment1.pdf\">here</a>, but let's use native Pandas methods to also explore the data. Although not specified above, this csv has row headers and the read_csv function implicitly knows this. <br>\n",
    "\n",
    "Let's take a look at the column names, in a nicely readable way:"
   ]
  },
  {
   "cell_type": "code",
   "execution_count": 12,
   "metadata": {},
   "outputs": [
    {
     "name": "stdout",
     "output_type": "stream",
     "text": [
      "Column Names Are:\n",
      "\n",
      "CustNUm\n",
      "Amount.Requested\n",
      "Amount.Funded.By.Investors\n",
      "Interest.Rate\n",
      "Loan.Length\n",
      "Loan.Purpose\n",
      "Debt.To.Income.Ratio\n",
      "State\n",
      "Home.Ownership\n",
      "Monthly.Income\n",
      "FICO.Range\n",
      "Open.CREDIT.Lines\n",
      "Revolving.CREDIT.Balance\n",
      "Inquiries.in.the.Last.6.Months\n",
      "Employment.Length\n",
      "\n",
      "Total # of Columns = 15\n"
     ]
    }
   ],
   "source": [
    "print(\"Column Names Are:\")\n",
    "print(\"\")\n",
    "\n",
    "for column_name in loansData.columns.values:\n",
    "    print(column_name)\n",
    "\n",
    "print(\"\")\n",
    "print('Total # of Columns = {}'.format(len(loansData.columns)))"
   ]
  },
  {
   "cell_type": "markdown",
   "metadata": {},
   "source": [
    "It is oftentimes helpful to take a quick glance at the first few records (when possible). This is an easy way to discover basic data flaws (i.e., all nulls, misaligned fields, etc.). We can do this in Pandas very easily."
   ]
  },
  {
   "cell_type": "code",
   "execution_count": 13,
   "metadata": {},
   "outputs": [
    {
     "data": {
      "text/html": [
       "<div>\n",
       "<style>\n",
       "    .dataframe thead tr:only-child th {\n",
       "        text-align: right;\n",
       "    }\n",
       "\n",
       "    .dataframe thead th {\n",
       "        text-align: left;\n",
       "    }\n",
       "\n",
       "    .dataframe tbody tr th {\n",
       "        vertical-align: top;\n",
       "    }\n",
       "</style>\n",
       "<table border=\"1\" class=\"dataframe\">\n",
       "  <thead>\n",
       "    <tr style=\"text-align: right;\">\n",
       "      <th></th>\n",
       "      <th>0</th>\n",
       "      <th>1</th>\n",
       "      <th>2</th>\n",
       "      <th>3</th>\n",
       "      <th>4</th>\n",
       "    </tr>\n",
       "  </thead>\n",
       "  <tbody>\n",
       "    <tr>\n",
       "      <th>CustNUm</th>\n",
       "      <td>81174</td>\n",
       "      <td>99592</td>\n",
       "      <td>80059</td>\n",
       "      <td>15825</td>\n",
       "      <td>33182</td>\n",
       "    </tr>\n",
       "    <tr>\n",
       "      <th>Amount.Requested</th>\n",
       "      <td>20000</td>\n",
       "      <td>19200</td>\n",
       "      <td>35000</td>\n",
       "      <td>10000</td>\n",
       "      <td>12000</td>\n",
       "    </tr>\n",
       "    <tr>\n",
       "      <th>Amount.Funded.By.Investors</th>\n",
       "      <td>20000</td>\n",
       "      <td>19200</td>\n",
       "      <td>35000</td>\n",
       "      <td>9975</td>\n",
       "      <td>12000</td>\n",
       "    </tr>\n",
       "    <tr>\n",
       "      <th>Interest.Rate</th>\n",
       "      <td>8.90%</td>\n",
       "      <td>12.12%</td>\n",
       "      <td>21.98%</td>\n",
       "      <td>9.99%</td>\n",
       "      <td>11.71%</td>\n",
       "    </tr>\n",
       "    <tr>\n",
       "      <th>Loan.Length</th>\n",
       "      <td>36 months</td>\n",
       "      <td>36 months</td>\n",
       "      <td>60 months</td>\n",
       "      <td>36 months</td>\n",
       "      <td>36 months</td>\n",
       "    </tr>\n",
       "    <tr>\n",
       "      <th>Loan.Purpose</th>\n",
       "      <td>debt_consolidation</td>\n",
       "      <td>debt_consolidation</td>\n",
       "      <td>debt_consolidation</td>\n",
       "      <td>debt_consolidation</td>\n",
       "      <td>credit_card</td>\n",
       "    </tr>\n",
       "    <tr>\n",
       "      <th>Debt.To.Income.Ratio</th>\n",
       "      <td>14.90%</td>\n",
       "      <td>28.36%</td>\n",
       "      <td>23.81%</td>\n",
       "      <td>14.30%</td>\n",
       "      <td>18.78%</td>\n",
       "    </tr>\n",
       "    <tr>\n",
       "      <th>State</th>\n",
       "      <td>SC</td>\n",
       "      <td>TX</td>\n",
       "      <td>CA</td>\n",
       "      <td>KS</td>\n",
       "      <td>NJ</td>\n",
       "    </tr>\n",
       "    <tr>\n",
       "      <th>Home.Ownership</th>\n",
       "      <td>MORTGAGE</td>\n",
       "      <td>MORTGAGE</td>\n",
       "      <td>MORTGAGE</td>\n",
       "      <td>MORTGAGE</td>\n",
       "      <td>RENT</td>\n",
       "    </tr>\n",
       "    <tr>\n",
       "      <th>Monthly.Income</th>\n",
       "      <td>6541.67</td>\n",
       "      <td>4583.33</td>\n",
       "      <td>11500</td>\n",
       "      <td>3833.33</td>\n",
       "      <td>3195</td>\n",
       "    </tr>\n",
       "    <tr>\n",
       "      <th>FICO.Range</th>\n",
       "      <td>735-739</td>\n",
       "      <td>715-719</td>\n",
       "      <td>690-694</td>\n",
       "      <td>695-699</td>\n",
       "      <td>695-699</td>\n",
       "    </tr>\n",
       "    <tr>\n",
       "      <th>Open.CREDIT.Lines</th>\n",
       "      <td>14</td>\n",
       "      <td>12</td>\n",
       "      <td>14</td>\n",
       "      <td>10</td>\n",
       "      <td>11</td>\n",
       "    </tr>\n",
       "    <tr>\n",
       "      <th>Revolving.CREDIT.Balance</th>\n",
       "      <td>14272</td>\n",
       "      <td>11140</td>\n",
       "      <td>21977</td>\n",
       "      <td>9346</td>\n",
       "      <td>14469</td>\n",
       "    </tr>\n",
       "    <tr>\n",
       "      <th>Inquiries.in.the.Last.6.Months</th>\n",
       "      <td>2</td>\n",
       "      <td>1</td>\n",
       "      <td>1</td>\n",
       "      <td>0</td>\n",
       "      <td>0</td>\n",
       "    </tr>\n",
       "    <tr>\n",
       "      <th>Employment.Length</th>\n",
       "      <td>&lt; 1 year</td>\n",
       "      <td>2 years</td>\n",
       "      <td>2 years</td>\n",
       "      <td>5 years</td>\n",
       "      <td>9 years</td>\n",
       "    </tr>\n",
       "  </tbody>\n",
       "</table>\n",
       "</div>"
      ],
      "text/plain": [
       "                                                 0                   1  \\\n",
       "CustNUm                                      81174               99592   \n",
       "Amount.Requested                             20000               19200   \n",
       "Amount.Funded.By.Investors                   20000               19200   \n",
       "Interest.Rate                                8.90%              12.12%   \n",
       "Loan.Length                              36 months           36 months   \n",
       "Loan.Purpose                    debt_consolidation  debt_consolidation   \n",
       "Debt.To.Income.Ratio                        14.90%              28.36%   \n",
       "State                                           SC                  TX   \n",
       "Home.Ownership                            MORTGAGE            MORTGAGE   \n",
       "Monthly.Income                             6541.67             4583.33   \n",
       "FICO.Range                                 735-739             715-719   \n",
       "Open.CREDIT.Lines                               14                  12   \n",
       "Revolving.CREDIT.Balance                     14272               11140   \n",
       "Inquiries.in.the.Last.6.Months                   2                   1   \n",
       "Employment.Length                         < 1 year             2 years   \n",
       "\n",
       "                                                 2                   3  \\\n",
       "CustNUm                                      80059               15825   \n",
       "Amount.Requested                             35000               10000   \n",
       "Amount.Funded.By.Investors                   35000                9975   \n",
       "Interest.Rate                               21.98%               9.99%   \n",
       "Loan.Length                              60 months           36 months   \n",
       "Loan.Purpose                    debt_consolidation  debt_consolidation   \n",
       "Debt.To.Income.Ratio                        23.81%              14.30%   \n",
       "State                                           CA                  KS   \n",
       "Home.Ownership                            MORTGAGE            MORTGAGE   \n",
       "Monthly.Income                               11500             3833.33   \n",
       "FICO.Range                                 690-694             695-699   \n",
       "Open.CREDIT.Lines                               14                  10   \n",
       "Revolving.CREDIT.Balance                     21977                9346   \n",
       "Inquiries.in.the.Last.6.Months                   1                   0   \n",
       "Employment.Length                          2 years             5 years   \n",
       "\n",
       "                                          4  \n",
       "CustNUm                               33182  \n",
       "Amount.Requested                      12000  \n",
       "Amount.Funded.By.Investors            12000  \n",
       "Interest.Rate                        11.71%  \n",
       "Loan.Length                       36 months  \n",
       "Loan.Purpose                    credit_card  \n",
       "Debt.To.Income.Ratio                 18.78%  \n",
       "State                                    NJ  \n",
       "Home.Ownership                         RENT  \n",
       "Monthly.Income                         3195  \n",
       "FICO.Range                          695-699  \n",
       "Open.CREDIT.Lines                        11  \n",
       "Revolving.CREDIT.Balance              14469  \n",
       "Inquiries.in.the.Last.6.Months            0  \n",
       "Employment.Length                   9 years  "
      ]
     },
     "execution_count": 13,
     "metadata": {},
     "output_type": "execute_result"
    }
   ],
   "source": [
    "loansData.head().transpose() #We transpose it so it will fit in the display window"
   ]
  },
  {
   "cell_type": "markdown",
   "metadata": {},
   "source": [
    "Next, let's run a quick line to get summary statistics of the numeric fields."
   ]
  },
  {
   "cell_type": "code",
   "execution_count": 14,
   "metadata": {},
   "outputs": [
    {
     "data": {
      "text/html": [
       "<div>\n",
       "<style>\n",
       "    .dataframe thead tr:only-child th {\n",
       "        text-align: right;\n",
       "    }\n",
       "\n",
       "    .dataframe thead th {\n",
       "        text-align: left;\n",
       "    }\n",
       "\n",
       "    .dataframe tbody tr th {\n",
       "        vertical-align: top;\n",
       "    }\n",
       "</style>\n",
       "<table border=\"1\" class=\"dataframe\">\n",
       "  <thead>\n",
       "    <tr style=\"text-align: right;\">\n",
       "      <th></th>\n",
       "      <th>count</th>\n",
       "      <th>mean</th>\n",
       "      <th>std</th>\n",
       "      <th>min</th>\n",
       "      <th>25%</th>\n",
       "      <th>50%</th>\n",
       "      <th>75%</th>\n",
       "      <th>max</th>\n",
       "    </tr>\n",
       "  </thead>\n",
       "  <tbody>\n",
       "    <tr>\n",
       "      <th>CustNUm</th>\n",
       "      <td>2500.0</td>\n",
       "      <td>51631.597200</td>\n",
       "      <td>30053.345508</td>\n",
       "      <td>10.00</td>\n",
       "      <td>26523.00</td>\n",
       "      <td>50653.0</td>\n",
       "      <td>77580.50</td>\n",
       "      <td>104202.0</td>\n",
       "    </tr>\n",
       "    <tr>\n",
       "      <th>Amount.Requested</th>\n",
       "      <td>2500.0</td>\n",
       "      <td>12406.500000</td>\n",
       "      <td>7801.544872</td>\n",
       "      <td>1000.00</td>\n",
       "      <td>6000.00</td>\n",
       "      <td>10000.0</td>\n",
       "      <td>17000.00</td>\n",
       "      <td>35000.0</td>\n",
       "    </tr>\n",
       "    <tr>\n",
       "      <th>Amount.Funded.By.Investors</th>\n",
       "      <td>2500.0</td>\n",
       "      <td>12001.573236</td>\n",
       "      <td>7745.320754</td>\n",
       "      <td>-0.01</td>\n",
       "      <td>6000.00</td>\n",
       "      <td>10000.0</td>\n",
       "      <td>16000.00</td>\n",
       "      <td>35000.0</td>\n",
       "    </tr>\n",
       "    <tr>\n",
       "      <th>Monthly.Income</th>\n",
       "      <td>2499.0</td>\n",
       "      <td>5688.931321</td>\n",
       "      <td>3963.118185</td>\n",
       "      <td>588.50</td>\n",
       "      <td>3500.00</td>\n",
       "      <td>5000.0</td>\n",
       "      <td>6800.00</td>\n",
       "      <td>102750.0</td>\n",
       "    </tr>\n",
       "    <tr>\n",
       "      <th>Open.CREDIT.Lines</th>\n",
       "      <td>2498.0</td>\n",
       "      <td>10.075661</td>\n",
       "      <td>4.508644</td>\n",
       "      <td>2.00</td>\n",
       "      <td>7.00</td>\n",
       "      <td>9.0</td>\n",
       "      <td>13.00</td>\n",
       "      <td>38.0</td>\n",
       "    </tr>\n",
       "    <tr>\n",
       "      <th>Revolving.CREDIT.Balance</th>\n",
       "      <td>2498.0</td>\n",
       "      <td>15244.559648</td>\n",
       "      <td>18308.549795</td>\n",
       "      <td>0.00</td>\n",
       "      <td>5585.75</td>\n",
       "      <td>10962.0</td>\n",
       "      <td>18888.75</td>\n",
       "      <td>270800.0</td>\n",
       "    </tr>\n",
       "    <tr>\n",
       "      <th>Inquiries.in.the.Last.6.Months</th>\n",
       "      <td>2498.0</td>\n",
       "      <td>0.906325</td>\n",
       "      <td>1.231036</td>\n",
       "      <td>0.00</td>\n",
       "      <td>0.00</td>\n",
       "      <td>0.0</td>\n",
       "      <td>1.00</td>\n",
       "      <td>9.0</td>\n",
       "    </tr>\n",
       "  </tbody>\n",
       "</table>\n",
       "</div>"
      ],
      "text/plain": [
       "                                 count          mean           std      min  \\\n",
       "CustNUm                         2500.0  51631.597200  30053.345508    10.00   \n",
       "Amount.Requested                2500.0  12406.500000   7801.544872  1000.00   \n",
       "Amount.Funded.By.Investors      2500.0  12001.573236   7745.320754    -0.01   \n",
       "Monthly.Income                  2499.0   5688.931321   3963.118185   588.50   \n",
       "Open.CREDIT.Lines               2498.0     10.075661      4.508644     2.00   \n",
       "Revolving.CREDIT.Balance        2498.0  15244.559648  18308.549795     0.00   \n",
       "Inquiries.in.the.Last.6.Months  2498.0      0.906325      1.231036     0.00   \n",
       "\n",
       "                                     25%      50%       75%       max  \n",
       "CustNUm                         26523.00  50653.0  77580.50  104202.0  \n",
       "Amount.Requested                 6000.00  10000.0  17000.00   35000.0  \n",
       "Amount.Funded.By.Investors       6000.00  10000.0  16000.00   35000.0  \n",
       "Monthly.Income                   3500.00   5000.0   6800.00  102750.0  \n",
       "Open.CREDIT.Lines                   7.00      9.0     13.00      38.0  \n",
       "Revolving.CREDIT.Balance         5585.75  10962.0  18888.75  270800.0  \n",
       "Inquiries.in.the.Last.6.Months      0.00      0.0      1.00       9.0  "
      ]
     },
     "execution_count": 14,
     "metadata": {},
     "output_type": "execute_result"
    }
   ],
   "source": [
    "loansData.describe().transpose()"
   ]
  },
  {
   "cell_type": "markdown",
   "metadata": {},
   "source": [
    "Let's now focus on a single column, 'Monthly.Income.' First things first, let's display the first five records of just this field."
   ]
  },
  {
   "cell_type": "code",
   "execution_count": 16,
   "metadata": {},
   "outputs": [
    {
     "data": {
      "text/plain": [
       "0     6541.67\n",
       "1     4583.33\n",
       "2    11500.00\n",
       "3     3833.33\n",
       "4     3195.00\n",
       "Name: Monthly.Income, dtype: float64"
      ]
     },
     "execution_count": 16,
     "metadata": {},
     "output_type": "execute_result"
    }
   ],
   "source": [
    "#Student input line here\n",
    "\n",
    "loansData['Monthly.Income'].head()\n"
   ]
  },
  {
   "cell_type": "markdown",
   "metadata": {},
   "source": [
    "Let's try and understand the distribution of this field. We can do this using the hist() method and matplotlib."
   ]
  },
  {
   "cell_type": "code",
   "execution_count": 17,
   "metadata": {},
   "outputs": [
    {
     "data": {
      "text/plain": [
       "<matplotlib.figure.Figure at 0x16eb1a65588>"
      ]
     },
     "execution_count": 17,
     "metadata": {},
     "output_type": "execute_result"
    },
    {
     "data": {
      "text/plain": [
       "<matplotlib.figure.Figure at 0x16eb1a65588>"
      ]
     },
     "metadata": {},
     "output_type": "display_data"
    }
   ],
   "source": [
    "plt.figure()\n",
    "hist_inc = loansData['Monthly.Income'].hist()\n",
    "plt.title('Histogram of Monthly Income')\n",
    "#plt.show()"
   ]
  },
  {
   "cell_type": "markdown",
   "metadata": {},
   "source": [
    "How would you characterize the shape of this distribution? Is there anything we can do to the income variable to make the distribution more bell curved? Let's create a new column in the dataframe called 'Monthly.LogIncome' and print a histogram of it. What might be some advantages of making such a transformation?\n",
    "<br>\n"
   ]
  },
  {
   "cell_type": "code",
   "execution_count": 6,
   "metadata": {},
   "outputs": [],
   "source": [
    "#Student: Add a new column Monthly.LogIncome to the dataset that is the log of the Monthly.Income columne"
   ]
  },
  {
   "cell_type": "code",
   "execution_count": null,
   "metadata": {
    "collapsed": true
   },
   "outputs": [],
   "source": [
    "#Now look at the distribution\n",
    "plt.figure()\n",
    "h = loansData['Monthly.LogIncome'].hist()\n",
    "plt.title('Histogram of Log(Monthly Income)')\n",
    "plt.show()"
   ]
  },
  {
   "cell_type": "markdown",
   "metadata": {},
   "source": [
    "Now let's answer some questions about the data.\n",
    "\n",
    "<b>Q1: What is the cardinality (i.e., # of distinct values) for 'Interest.Rate' and 'FICO.Range'</b>"
   ]
  },
  {
   "cell_type": "code",
   "execution_count": 7,
   "metadata": {},
   "outputs": [],
   "source": [
    "#Student input code here - hint, the 'describe()' method returns a useful dataframe\n"
   ]
  },
  {
   "cell_type": "markdown",
   "metadata": {},
   "source": [
    "<b>Q2: What data type did Pandas set fo Interest.Rate? Can we create a new field which is stored as a float?</b>"
   ]
  },
  {
   "cell_type": "code",
   "execution_count": 8,
   "metadata": {},
   "outputs": [],
   "source": [
    "#Student input code here - show the field type\n"
   ]
  },
  {
   "cell_type": "markdown",
   "metadata": {},
   "source": [
    "In the cell below, create a new field 'Interest.Rate.Num' where 'Interest.Rate' is converted to a float. Hint: this can be done in one line using the .str assessor, strip and astype methods."
   ]
  },
  {
   "cell_type": "code",
   "execution_count": 13,
   "metadata": {},
   "outputs": [],
   "source": [
    "#Student input code here - convert field to a float using the '.str' assessor\n"
   ]
  },
  {
   "cell_type": "markdown",
   "metadata": {},
   "source": [
    "<b>Q3: Can we get a sense of the relationship between monthly income and interest rate? Use the scatter() function from Matplotlib.</b>"
   ]
  },
  {
   "cell_type": "code",
   "execution_count": 9,
   "metadata": {},
   "outputs": [],
   "source": [
    "#Student input line here\n"
   ]
  },
  {
   "cell_type": "markdown",
   "metadata": {},
   "source": [
    "Given the skewed distribution of Income, is this chart visually helpful? Let's try the Log of income instead."
   ]
  },
  {
   "cell_type": "code",
   "execution_count": 10,
   "metadata": {},
   "outputs": [],
   "source": [
    "#Student input code here\n"
   ]
  },
  {
   "cell_type": "markdown",
   "metadata": {},
   "source": [
    "<b>Q4: What is the average interest rate for each FICO range?</b> <br>\n",
    "Hint: use the groupby() method in Pandas."
   ]
  },
  {
   "cell_type": "code",
   "execution_count": 11,
   "metadata": {},
   "outputs": [],
   "source": [
    "#Student input code here\n",
    "fico_grp = "
   ]
  },
  {
   "cell_type": "code",
   "execution_count": 12,
   "metadata": {},
   "outputs": [],
   "source": [
    "#fico_grp"
   ]
  },
  {
   "cell_type": "code",
   "execution_count": null,
   "metadata": {
    "collapsed": true
   },
   "outputs": [],
   "source": []
  }
 ],
 "metadata": {
  "kernelspec": {
   "display_name": "Python 3",
   "language": "python",
   "name": "python3"
  },
  "language_info": {
   "codemirror_mode": {
    "name": "ipython",
    "version": 3
   },
   "file_extension": ".py",
   "mimetype": "text/x-python",
   "name": "python",
   "nbconvert_exporter": "python",
   "pygments_lexer": "ipython3",
   "version": "3.6.1"
  }
 },
 "nbformat": 4,
 "nbformat_minor": 1
}
