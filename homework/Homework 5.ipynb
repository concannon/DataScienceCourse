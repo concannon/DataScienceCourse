{
 "cells": [
  {
   "cell_type": "markdown",
   "metadata": {},
   "source": [
    "# Introduction to Data Science\n",
    "## Homework 5"
   ]
  },
  {
   "cell_type": "markdown",
   "metadata": {},
   "source": [
    "Student Name: Connor Concannon \n",
    "\n",
    "Student Netid: cmc1204"
   ]
  },
  {
   "cell_type": "markdown",
   "metadata": {},
   "source": [
    "### Part 1: Naive Bayes (5 Points)"
   ]
  },
  {
   "cell_type": "markdown",
   "metadata": {},
   "source": [
    "1\\. From your reading you know that the naive Bayes classifier works by calculating the conditional probabilities of each feature, $e_i$, occuring with each class $c$ and treating them independently. This results in the probability of a certain class occuring given a set of features, or a piece of evidence, $E$, as\n",
    "\n",
    "$$P(c \\mid E) = \\frac{p(e_1 \\mid c) \\cdot p(e_2 \\mid c) \\cdot \\cdot \\cdot p(e_k \\mid c) \\cdot p(c)}{p(E)}.$$\n",
    "\n",
    "The conditional probability of each piece of evidence occuring with a given class is given by\n",
    "\n",
    "$$P(e_i \\mid c) = \\frac{\\text{count}(e_i, c)}{\\text{count}(c)}.$$\n",
    "\n",
    "In the above equation $\\text{count}(e_i, c)$ is the number of documents in a given class that contain feature $e_i$ and $\\text{count}(c)$ is the number of documents that belong to class $c$. \n",
    "\n",
    "A common variation of the above is to use Laplace (sometimes called +1) smoothing. Recall the use of Laplace smoothing introduced toward the end of Chapter 3 in the section Probability Estimation. This is done in sklearn by setting `alpha=1` in the `BernoulliNB()` function (this is also the default behavior). The result of Laplace smoothing will slightly change the conditional probabilities,\n",
    "\n",
    "$$P(e_i \\mid c) = \\frac{\\text{count}(e_i, c) + 1}{\\text{count}(c) + 2}.$$\n",
    "\n",
    "In no more than **one paragraph**, describe why this is useful, and use the bias-variance tradeoff to justify its use. Try to think of a case when not using Laplace smoothing would result in \"bad\" models. Try to give an example. Be precise."
   ]
  },
  {
   "cell_type": "markdown",
   "metadata": {},
   "source": [
    "The Laplace smoothing technique is especially useful (if not critical) to use in text mining because of the large number of possible words (or n-grams) that may never be encountered in the training set.  If a new word is passed through the algorithm without applying Laplace smoothing, the algorithm may incorrectly set the probability of the outcome to zero, even if the evidence suggests otherwise.  The existence of a new word may throw off the prediction, and so the smoothing transformation will help prevent against that."
   ]
  },
  {
   "cell_type": "markdown",
   "metadata": {},
   "source": [
    "### Part 2: Text classification for sentiment analysis (20 Points)\n",
    "For this part of the assignment, we are going to use a data set of movie ratings from IMDB.com. The data consists of the text of a movie review and a target variable which tells us whether the reviewer had a positive feeling towards the movie (equivalent to rating the movie between 7 and 10) or a negative feeling (rating the movie between 1 and 4). Neutral reactions are not included in the data.\n",
    "\n",
    "The data are located in \"`data/imdb.csv`\". The first column is the review text; the second is the text label 'P' for positive or 'N' for negative."
   ]
  },
  {
   "cell_type": "markdown",
   "metadata": {},
   "source": [
    "1 (1 Point) \\. Load the data into a pandas `DataFrame()`."
   ]
  },
  {
   "cell_type": "code",
   "execution_count": 4,
   "metadata": {},
   "outputs": [
    {
     "data": {
      "text/html": [
       "<div>\n",
       "<style>\n",
       "    .dataframe thead tr:only-child th {\n",
       "        text-align: right;\n",
       "    }\n",
       "\n",
       "    .dataframe thead th {\n",
       "        text-align: left;\n",
       "    }\n",
       "\n",
       "    .dataframe tbody tr th {\n",
       "        vertical-align: top;\n",
       "    }\n",
       "</style>\n",
       "<table border=\"1\" class=\"dataframe\">\n",
       "  <thead>\n",
       "    <tr style=\"text-align: right;\">\n",
       "      <th></th>\n",
       "      <th>Text</th>\n",
       "      <th>Class</th>\n",
       "    </tr>\n",
       "  </thead>\n",
       "  <tbody>\n",
       "    <tr>\n",
       "      <th>0</th>\n",
       "      <td>'One of the first of the best musicals Anchors...</td>\n",
       "      <td>P</td>\n",
       "    </tr>\n",
       "    <tr>\n",
       "      <th>1</th>\n",
       "      <td>'Visually disjointed and full of itself the di...</td>\n",
       "      <td>N</td>\n",
       "    </tr>\n",
       "    <tr>\n",
       "      <th>2</th>\n",
       "      <td>'These type of movies about young teenagers st...</td>\n",
       "      <td>P</td>\n",
       "    </tr>\n",
       "    <tr>\n",
       "      <th>3</th>\n",
       "      <td>'I would rather of had my eyes gouged out with...</td>\n",
       "      <td>N</td>\n",
       "    </tr>\n",
       "    <tr>\n",
       "      <th>4</th>\n",
       "      <td>'The title says it all. Tail Gunner Joe was a ...</td>\n",
       "      <td>N</td>\n",
       "    </tr>\n",
       "  </tbody>\n",
       "</table>\n",
       "</div>"
      ],
      "text/plain": [
       "                                                Text Class\n",
       "0  'One of the first of the best musicals Anchors...     P\n",
       "1  'Visually disjointed and full of itself the di...     N\n",
       "2  'These type of movies about young teenagers st...     P\n",
       "3  'I would rather of had my eyes gouged out with...     N\n",
       "4  'The title says it all. Tail Gunner Joe was a ...     N"
      ]
     },
     "execution_count": 4,
     "metadata": {},
     "output_type": "execute_result"
    }
   ],
   "source": [
    "import pandas as pd\n",
    "import numpy as np\n",
    "data = pd.read_csv('imdb.csv')\n",
    "import os\n",
    "os.getcwd()\n",
    "data.head()"
   ]
  },
  {
   "cell_type": "markdown",
   "metadata": {},
   "source": [
    "2 (1 Point)\\. Code the target variable to be numeric: use the value `1` to represent 'P' and `0` to represent 'N'."
   ]
  },
  {
   "cell_type": "code",
   "execution_count": 5,
   "metadata": {},
   "outputs": [
    {
     "data": {
      "text/html": [
       "<div>\n",
       "<style>\n",
       "    .dataframe thead tr:only-child th {\n",
       "        text-align: right;\n",
       "    }\n",
       "\n",
       "    .dataframe thead th {\n",
       "        text-align: left;\n",
       "    }\n",
       "\n",
       "    .dataframe tbody tr th {\n",
       "        vertical-align: top;\n",
       "    }\n",
       "</style>\n",
       "<table border=\"1\" class=\"dataframe\">\n",
       "  <thead>\n",
       "    <tr style=\"text-align: right;\">\n",
       "      <th></th>\n",
       "      <th>Text</th>\n",
       "      <th>Class</th>\n",
       "    </tr>\n",
       "  </thead>\n",
       "  <tbody>\n",
       "    <tr>\n",
       "      <th>0</th>\n",
       "      <td>'One of the first of the best musicals Anchors...</td>\n",
       "      <td>1</td>\n",
       "    </tr>\n",
       "    <tr>\n",
       "      <th>1</th>\n",
       "      <td>'Visually disjointed and full of itself the di...</td>\n",
       "      <td>0</td>\n",
       "    </tr>\n",
       "    <tr>\n",
       "      <th>2</th>\n",
       "      <td>'These type of movies about young teenagers st...</td>\n",
       "      <td>1</td>\n",
       "    </tr>\n",
       "    <tr>\n",
       "      <th>3</th>\n",
       "      <td>'I would rather of had my eyes gouged out with...</td>\n",
       "      <td>0</td>\n",
       "    </tr>\n",
       "    <tr>\n",
       "      <th>4</th>\n",
       "      <td>'The title says it all. Tail Gunner Joe was a ...</td>\n",
       "      <td>0</td>\n",
       "    </tr>\n",
       "  </tbody>\n",
       "</table>\n",
       "</div>"
      ],
      "text/plain": [
       "                                                Text  Class\n",
       "0  'One of the first of the best musicals Anchors...      1\n",
       "1  'Visually disjointed and full of itself the di...      0\n",
       "2  'These type of movies about young teenagers st...      1\n",
       "3  'I would rather of had my eyes gouged out with...      0\n",
       "4  'The title says it all. Tail Gunner Joe was a ...      0"
      ]
     },
     "execution_count": 5,
     "metadata": {},
     "output_type": "execute_result"
    }
   ],
   "source": [
    "# Code here\n",
    "data.Class = pd.DataFrame(np.where(data.Class=='P',1,0))\n",
    "data.head()"
   ]
  },
  {
   "cell_type": "markdown",
   "metadata": {},
   "source": [
    "3 (2 Points)\\. Put all of the text into a data frame called `X` and the target variable in a data frame called `Y`. Make a train/test split where you give 75% of the data to training. Feel free to use any function from sklearn."
   ]
  },
  {
   "cell_type": "code",
   "execution_count": 24,
   "metadata": {},
   "outputs": [
    {
     "data": {
      "text/plain": [
       "2326    'Man To Man tries hard to be a good movie: it ...\n",
       "2589    'This film has some of the greatest comedic di...\n",
       "4053    'Busy is so amazing! I just loved every word s...\n",
       "2046    'Thats right you heard me this movie is a frea...\n",
       "52      'This wonderful 1983 BBC television production...\n",
       "Name: Text, dtype: object"
      ]
     },
     "execution_count": 24,
     "metadata": {},
     "output_type": "execute_result"
    }
   ],
   "source": [
    "from sklearn.cross_validation import train_test_split\n",
    "\n",
    "X = data.Text\n",
    "Y = data.Class\n",
    "\n",
    "X_train, X_test, Y_train, Y_test = train_test_split(\n",
    "    X, Y, test_size=.25, random_state=13)\n",
    "\n",
    "X_train.head()"
   ]
  },
  {
   "cell_type": "markdown",
   "metadata": {},
   "source": [
    "4 (5 Points)\\. Create a binary `CountVectorizer()` and a binary `TfidfVectorizer()`. Use the original single words as well as bigrams (in the same model). Also, use an \"english\" stop word list. Fit these to the training data to extract a vocabulary and then transform both the train and test data. Hint - look at the API documentation for both vectorizers to see what we mean by \"binary.\""
   ]
  },
  {
   "cell_type": "code",
   "execution_count": 7,
   "metadata": {
    "collapsed": true
   },
   "outputs": [],
   "source": [
    "from sklearn.feature_extraction.text import CountVectorizer\n",
    "from sklearn.feature_extraction.text import TfidfVectorizer\n",
    "\n",
    "\n",
    "binary = CountVectorizer(ngram_range=(1,2),stop_words='english')\n",
    "binary.fit(X_train)\n",
    "X_train_count = binary.transform(X_train)\n",
    "X_test_count = binary.transform(X_test)\n",
    "#print(binary.get_feature_names()[-50:])\n",
    "\n",
    "tfidf = TfidfVectorizer(ngram_range=(1,2),stop_words='english')\n",
    "tfidf.fit(X_train)\n",
    "X_train_tfidf = tfidf.transform(X_train)\n",
    "X_test_tfidf = tfidf.transform(X_test)\n",
    "\n"
   ]
  },
  {
   "cell_type": "markdown",
   "metadata": {},
   "source": [
    "5 (6 Points)\\. Create `LogisticRegression()` and `BernoulliNB()` models. For all settings, keep the default values. In a single plot, show the AUC curve for both classifiers and both vectorizers defined above. In the legend, include the area under the ROC curve (AUC). Do not forget to label your axes. Your final plot will be a single window with 4 curves.\n",
    "\n",
    "Which model do you think does a better job? Why? Explain in no more than a paragraph.\n",
    "\n",
    "Extra credit (2 points): Do any of the options perform identically? If so, can you explain why?"
   ]
  },
  {
   "cell_type": "code",
   "execution_count": 8,
   "metadata": {},
   "outputs": [
    {
     "data": {
      "image/png": "[encoded data removed]",
      "text/plain": [
       "<matplotlib.figure.Figure at 0x22d62e9ca58>"
      ]
     },
     "metadata": {},
     "output_type": "display_data"
    }
   ],
   "source": [
    "# Run this so your plots show properly\n",
    "import matplotlib.pyplot as plt\n",
    "%matplotlib inline\n",
    "plt.rcParams['figure.figsize'] = 12, 12\n",
    "from sklearn.linear_model import LogisticRegression\n",
    "from sklearn.naive_bayes import BernoulliNB\n",
    "from sklearn import metrics\n",
    "\n",
    "# Logistic Count Vectorizer\n",
    "logistic_clf = LogisticRegression()\n",
    "logistic_clf.fit(X_train_count, Y_train)\n",
    "logistic_score = logistic_clf.predict_proba(X_test_count)\n",
    "fpr, tpr, thresholds = metrics.roc_curve(Y_test, logistic_score[:,1])\n",
    "auc_log = metrics.auc(fpr,tpr)\n",
    "auc_log\n",
    "\n",
    "#Logistic TFIDF\n",
    "logistic_tf = LogisticRegression()\n",
    "logistic_tf.fit(X_train_tfidf, Y_train)\n",
    "logistic_tf_score = logistic_tf.predict_proba(X_test_tfidf)\n",
    "fprtf, tprtf, thresholdstf = metrics.roc_curve(Y_test, logistic_tf_score[:,1])\n",
    "auc_log_tf = metrics.auc(fprtf,tprtf)\n",
    "auc_log_tf\n",
    "\n",
    "\n",
    "#NB Count Vectorizer\n",
    "nb_count = BernoulliNB()\n",
    "nb_count.fit(X_train_count, Y_train)\n",
    "nb_count_score = nb_count.predict_proba(X_test_count)\n",
    "fprnb, tprnb, thresholdsnb = metrics.roc_curve(Y_test, nb_count_score[:,1])\n",
    "auc_nb = metrics.auc(fprnb, tprnb)\n",
    "auc_nb\n",
    "\n",
    "#NB TFIDF\n",
    "nb_tf = BernoulliNB()\n",
    "nb_tf.fit(X_train_tfidf, Y_train)\n",
    "nb_tf_score = nb_tf.predict_proba(X_test_tfidf)\n",
    "fprnbtf, tprnbtf, thresholdsnbtf = metrics.roc_curve(Y_test, nb_tf_score[:,1])\n",
    "auc_nbtf = metrics.auc(fprnbtf,tprnbtf)\n",
    "auc_nbtf\n",
    "\n",
    "\n",
    "\n",
    "plt.plot([0, 1], [0, 1], 'g')\n",
    "plt.xlabel('False Positive Rate')\n",
    "plt.ylabel('True Positive Rate')\n",
    "plt.title('ROC Curve')\n",
    "plt.plot(fpr, tpr, color='r', label= ('Logistic Regression AUC: {}'.format(round(auc_log,3))))\n",
    "plt.plot(fprtf, tprtf, color='b', label=('Logistic Regression TFIDF AUC: {}'.format(round(auc_log_tf,3))))\n",
    "plt.plot(fprnb, tprnb, color='g', label=('Naive Bayes AUC: {}'.format(round(auc_nb,3))))\n",
    "plt.plot(fprnbtf, tprnbtf, color='y', label=('Naive Bayes TFIDF AUC: {}'.format(round(auc_nbtf,3))))\n",
    "plt.legend(loc ='upper left')\n",
    "plt.show()\n"
   ]
  },
  {
   "cell_type": "markdown",
   "metadata": {},
   "source": [
    "According to the AUC value, the logistic regression model created with CountVectcorizer() technique performs the best.  In addition to the AUC, this model is probably the best because it is more interpretable (to the lay person) than the TF-IDF technique."
   ]
  },
  {
   "cell_type": "markdown",
   "metadata": {
    "collapsed": true
   },
   "source": [
    "5\\. Use the model from question 4 that you think did the best job and predict the rating of the test data. Find 5 examples the should have been positive, but were incorrectly classified as negative. Print out the reviews below and include an explanation as to why you think it may have been incorrectly classified. You can pick any 5. They do not have to be at random."
   ]
  },
  {
   "cell_type": "code",
   "execution_count": 33,
   "metadata": {},
   "outputs": [
    {
     "data": {
      "text/html": [
       "<div>\n",
       "<style>\n",
       "    .dataframe thead tr:only-child th {\n",
       "        text-align: right;\n",
       "    }\n",
       "\n",
       "    .dataframe thead th {\n",
       "        text-align: left;\n",
       "    }\n",
       "\n",
       "    .dataframe tbody tr th {\n",
       "        vertical-align: top;\n",
       "    }\n",
       "</style>\n",
       "<table border=\"1\" class=\"dataframe\">\n",
       "  <thead>\n",
       "    <tr style=\"text-align: right;\">\n",
       "      <th></th>\n",
       "      <th>X_Test</th>\n",
       "      <th>Y_Test</th>\n",
       "    </tr>\n",
       "  </thead>\n",
       "  <tbody>\n",
       "    <tr>\n",
       "      <th>0</th>\n",
       "      <td>'Ive heard people who say this movie is dull dull dull. I dont think they were watching the right movie. This isnt the prototypical action movie thank God. This is a psychological drama about the rookie and his mentor that just happens to be about killing people. In this way it works extremely well with terrific performances from Berenger and Zane (who doesnt sleepwalk through the movie like he has in other roles - he actually looks like hes acting). I was disappointed with the action towards the end - a lot of it didnt make much sense and was unsatisfying given the buildup from the rest of the movie. But watch Zanes face as he panics alone while Berenger does the dirty work.'</td>\n",
       "      <td>1</td>\n",
       "    </tr>\n",
       "    <tr>\n",
       "      <th>2</th>\n",
       "      <td>'all i have to say is if you dont like it then there is something wrong with you. plus Jessica is just all kinds of hot!!!!! the only reason you may not like it is because it is set in the future where Seattle has gone to hell. that and you my not like it cause the future they show could very well happen.'</td>\n",
       "      <td>1</td>\n",
       "    </tr>\n",
       "    <tr>\n",
       "      <th>4</th>\n",
       "      <td>'Cinematography--Compared to The Wrestler a degree of verite and cinematic skill that disarms the viewer and then hypnotizes as well. Acting--The dialogue is minimal but the pauses and silence poignant. Story--The conflict in a balkanized Denmark is volatile as we saw recently jihad murders in the Netherlands and riots in France. While I harbor no love for Islam the departure from the West from Christian values holds no cause for celebration. The director of this film managed to mirror the two societies in a way that belabored neither emphasizing the development of Aicha as an individual who became a champion not so much in the ring but to all those around her. Even her worst . . . I will stop here to avoid the spoiler.'</td>\n",
       "      <td>1</td>\n",
       "    </tr>\n",
       "    <tr>\n",
       "      <th>5</th>\n",
       "      <td>'Calling this a romantic comedy is accurate but nowadays misleading. The genre has sadly deteriorated into cliches too focused on making the main couple get together and with very little room for ambience and other stories making it formulaic and overly predictable. The Shop Around the Corner does not suffer from these illnesses: it manages to create a recognisably middle/eastern-European atmosphere and has a strong cast besides the (also strong) nominal leads; I avoid using the words supporting cast as for example Mr. Matuschek (Frank Morgan) has a central role to the film and his story is equally if not more important than the romance. The 1998 film Youve Got Mail borrowed the anonymous pen-pal idea from this film and has therefore been billed as a remake. This is not correct and in fact unfair to the new movie - it shares the genre and borrows a plot element but that is all.'</td>\n",
       "      <td>1</td>\n",
       "    </tr>\n",
       "    <tr>\n",
       "      <th>7</th>\n",
       "      <td>'In the hands of a more skilled director this film would have been considered a horror masterpiece. Despite Michael Death Wish Winners merely passable direction the movie is interesting original and more than a little scary. The script bucks more than one horror cliché off its back (several it cant shake) including Chris Sarandon as the heroines boyfriend who actually listens to her as she insists that eerie things are going down. Burgess Meredith is delightful as the lovably insane neighbor. Eva Gardner is haunting with a young Beverly DAngelo as her mute and disturbed lesbian lover. John Carradine does a heck-of-a job sitting in a chair. And watch out for a brief cameo from an unknown-at-the-time Chris Walken! This movie is creepy and creative. The plot twists are lovely if a tad predictable. The climax of which I will give no detail is disturbing and quite impressive. Again a better director could have done more with it nonetheless it is quite satisfying - at least to those with the sensibilities of seventies horror. If you like modern overproduced body-counting torture-fantasy you wont like this. There is almost no gore. The direction is quite spartan. The effects are few although theres some delightful makeup near the end - most of which actually isnt makeup...but perhaps Ive said too much already. Ive rated this a little higher than its quality may justify but I enjoyed it as much as any 8 film that Ive seen.'</td>\n",
       "      <td>1</td>\n",
       "    </tr>\n",
       "  </tbody>\n",
       "</table>\n",
       "</div>"
      ],
      "text/plain": [
       "                                                                                                                                                                                                                                                                                                                                                                                                                                                                                                                                                                                                                                                                                                                                                                                                                                                                                                                                                                                                                                                                                                                                                                                                                                                                                                                                                                                                                                                                                            X_Test  \\\n",
       "0  'Ive heard people who say this movie is dull dull dull. I dont think they were watching the right movie. This isnt the prototypical action movie thank God. This is a psychological drama about the rookie and his mentor that just happens to be about killing people. In this way it works extremely well with terrific performances from Berenger and Zane (who doesnt sleepwalk through the movie like he has in other roles - he actually looks like hes acting). I was disappointed with the action towards the end - a lot of it didnt make much sense and was unsatisfying given the buildup from the rest of the movie. But watch Zanes face as he panics alone while Berenger does the dirty work.'                                                                                                                                                                                                                                                                                                                                                                                                                                                                                                                                                                                                                                                                                                                                                                                     \n",
       "2  'all i have to say is if you dont like it then there is something wrong with you. plus Jessica is just all kinds of hot!!!!! the only reason you may not like it is because it is set in the future where Seattle has gone to hell. that and you my not like it cause the future they show could very well happen.'                                                                                                                                                                                                                                                                                                                                                                                                                                                                                                                                                                                                                                                                                                                                                                                                                                                                                                                                                                                                                                                                                                                                                                               \n",
       "4  'Cinematography--Compared to The Wrestler a degree of verite and cinematic skill that disarms the viewer and then hypnotizes as well. Acting--The dialogue is minimal but the pauses and silence poignant. Story--The conflict in a balkanized Denmark is volatile as we saw recently jihad murders in the Netherlands and riots in France. While I harbor no love for Islam the departure from the West from Christian values holds no cause for celebration. The director of this film managed to mirror the two societies in a way that belabored neither emphasizing the development of Aicha as an individual who became a champion not so much in the ring but to all those around her. Even her worst . . . I will stop here to avoid the spoiler.'                                                                                                                                                                                                                                                                                                                                                                                                                                                                                                                                                                                                                                                                                                                                        \n",
       "5  'Calling this a romantic comedy is accurate but nowadays misleading. The genre has sadly deteriorated into cliches too focused on making the main couple get together and with very little room for ambience and other stories making it formulaic and overly predictable. The Shop Around the Corner does not suffer from these illnesses: it manages to create a recognisably middle/eastern-European atmosphere and has a strong cast besides the (also strong) nominal leads; I avoid using the words supporting cast as for example Mr. Matuschek (Frank Morgan) has a central role to the film and his story is equally if not more important than the romance. The 1998 film Youve Got Mail borrowed the anonymous pen-pal idea from this film and has therefore been billed as a remake. This is not correct and in fact unfair to the new movie - it shares the genre and borrows a plot element but that is all.'                                                                                                                                                                                                                                                                                                                                                                                                                                                                                                                                                                       \n",
       "7  'In the hands of a more skilled director this film would have been considered a horror masterpiece. Despite Michael Death Wish Winners merely passable direction the movie is interesting original and more than a little scary. The script bucks more than one horror cliché off its back (several it cant shake) including Chris Sarandon as the heroines boyfriend who actually listens to her as she insists that eerie things are going down. Burgess Meredith is delightful as the lovably insane neighbor. Eva Gardner is haunting with a young Beverly DAngelo as her mute and disturbed lesbian lover. John Carradine does a heck-of-a job sitting in a chair. And watch out for a brief cameo from an unknown-at-the-time Chris Walken! This movie is creepy and creative. The plot twists are lovely if a tad predictable. The climax of which I will give no detail is disturbing and quite impressive. Again a better director could have done more with it nonetheless it is quite satisfying - at least to those with the sensibilities of seventies horror. If you like modern overproduced body-counting torture-fantasy you wont like this. There is almost no gore. The direction is quite spartan. The effects are few although theres some delightful makeup near the end - most of which actually isnt makeup...but perhaps Ive said too much already. Ive rated this a little higher than its quality may justify but I enjoyed it as much as any 8 film that Ive seen.'   \n",
       "\n",
       "   Y_Test  \n",
       "0  1       \n",
       "2  1       \n",
       "4  1       \n",
       "5  1       \n",
       "7  1       "
      ]
     },
     "execution_count": 33,
     "metadata": {},
     "output_type": "execute_result"
    }
   ],
   "source": [
    "clf = LogisticRegression()\n",
    "clf.fit(X_train_count,Y_train)\n",
    "Y_pred = clf.predict(X_test_count)\n",
    "\n",
    "misclassified = (Y_pred != Y_test)\n",
    "\n",
    "DF = pd.DataFrame(\n",
    "    {'X_Test': list(X_test[misclassified]),\n",
    "     'Y_Test': list(Y_test[misclassified])\n",
    "    })\n",
    "pd.set_option('display.max_colwidth', -1)\n",
    "DF[DF[\"Y_Test\"] == 1 ].head(5)"
   ]
  },
  {
   "cell_type": "markdown",
   "metadata": {},
   "source": [
    "Some of the reviews use terms that might be considered negative ('dull dull dull', 'wrong with you', 'clieches and overly predictable').  But in context, the reviewers are stating that they disagree with these words.  "
   ]
  }
 ],
 "metadata": {
  "anaconda-cloud": {},
  "kernelspec": {
   "display_name": "Python 3",
   "language": "python",
   "name": "python3"
  },
  "language_info": {
   "codemirror_mode": {
    "name": "ipython",
    "version": 3
   },
   "file_extension": ".py",
   "mimetype": "text/x-python",
   "name": "python",
   "nbconvert_exporter": "python",
   "pygments_lexer": "ipython3",
   "version": "3.6.1"
  }
 },
 "nbformat": 4,
 "nbformat_minor": 1
}
